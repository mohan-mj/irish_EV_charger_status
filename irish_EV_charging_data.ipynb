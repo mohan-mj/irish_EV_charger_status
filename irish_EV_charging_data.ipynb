{
 "cells": [
  {
   "cell_type": "code",
   "execution_count": 17,
   "metadata": {
    "collapsed": true
   },
   "outputs": [],
   "source": [
    "from __future__ import print_function"
   ]
  },
  {
   "cell_type": "code",
   "execution_count": 18,
   "metadata": {
    "collapsed": true
   },
   "outputs": [],
   "source": [
    "import pandas as pd\n",
    "import scipy.stats as stats\n",
    "import numpy as np\n",
    "\n",
    "import matplotlib.pyplot as plt\n",
    "%matplotlib inline\n",
    "import seaborn as sns"
   ]
  },
  {
   "cell_type": "code",
   "execution_count": 19,
   "metadata": {
    "collapsed": true
   },
   "outputs": [],
   "source": [
    "#first look at data, let's look at just the first 2 rows\n",
    "nov16 = pd.read_csv('/Users/alexandrasmith/Documents/DataScience/Intro_to_Data_Science/irish_EV_stations_data/201611a.txt',sep='\\t',names = [\"Datetime\",\"Time\",\"ChargePointID\",\"ChargePointType\",\"Status\",\"Latitude_Longitude\",\"Address\",\"Latitude\",\"Longitude\"\n",
    "], nrows=2)"
   ]
  },
  {
   "cell_type": "code",
   "execution_count": 20,
   "metadata": {},
   "outputs": [
    {
     "data": {
      "text/html": [
       "<div>\n",
       "<style>\n",
       "    .dataframe thead tr:only-child th {\n",
       "        text-align: right;\n",
       "    }\n",
       "\n",
       "    .dataframe thead th {\n",
       "        text-align: left;\n",
       "    }\n",
       "\n",
       "    .dataframe tbody tr th {\n",
       "        vertical-align: top;\n",
       "    }\n",
       "</style>\n",
       "<table border=\"1\" class=\"dataframe\">\n",
       "  <thead>\n",
       "    <tr style=\"text-align: right;\">\n",
       "      <th></th>\n",
       "      <th>Datetime</th>\n",
       "      <th>Time</th>\n",
       "      <th>ChargePointID</th>\n",
       "      <th>ChargePointType</th>\n",
       "      <th>Status</th>\n",
       "      <th>Latitude_Longitude</th>\n",
       "      <th>Address</th>\n",
       "      <th>Latitude</th>\n",
       "      <th>Longitude</th>\n",
       "    </tr>\n",
       "  </thead>\n",
       "  <tbody>\n",
       "    <tr>\n",
       "      <th>0</th>\n",
       "      <td>20161102</td>\n",
       "      <td>640</td>\n",
       "      <td>CP:C2YMD-A/B</td>\n",
       "      <td>StandardType2</td>\n",
       "      <td>Part</td>\n",
       "      <td>-7.204457,53.863850</td>\n",
       "      <td>The Grove, Ballyjamesduff, County Cavan</td>\n",
       "      <td>-7.204457</td>\n",
       "      <td>53.863850</td>\n",
       "    </tr>\n",
       "    <tr>\n",
       "      <th>1</th>\n",
       "      <td>20161102</td>\n",
       "      <td>640</td>\n",
       "      <td>CP:C4ZH3</td>\n",
       "      <td>StandardType2</td>\n",
       "      <td>OOS</td>\n",
       "      <td>-7.361237,53.994044</td>\n",
       "      <td>Off Farnham Street, Cavan Town, County Cavan</td>\n",
       "      <td>-7.361237</td>\n",
       "      <td>53.994044</td>\n",
       "    </tr>\n",
       "  </tbody>\n",
       "</table>\n",
       "</div>"
      ],
      "text/plain": [
       "   Datetime  Time ChargePointID ChargePointType Status   Latitude_Longitude  \\\n",
       "0  20161102   640  CP:C2YMD-A/B   StandardType2   Part  -7.204457,53.863850   \n",
       "1  20161102   640      CP:C4ZH3   StandardType2    OOS  -7.361237,53.994044   \n",
       "\n",
       "                                        Address  Latitude  Longitude  \n",
       "0       The Grove, Ballyjamesduff, County Cavan -7.204457  53.863850  \n",
       "1  Off Farnham Street, Cavan Town, County Cavan -7.361237  53.994044  "
      ]
     },
     "execution_count": 20,
     "metadata": {},
     "output_type": "execute_result"
    }
   ],
   "source": [
    "nov16"
   ]
  },
  {
   "cell_type": "code",
   "execution_count": 21,
   "metadata": {
    "collapsed": true
   },
   "outputs": [],
   "source": [
    "#load all data with correct headers (I decided the column names based on info about dataset and looking at first 2 rows above)\n",
    "nov16 = pd.read_csv('/Users/alexandrasmith/Documents/DataScience/Intro_to_Data_Science/irish_EV_stations_data/201611a.txt',sep='\\t',names = [\"Datetime\",\"Time\",\"ChargePointID\",\"ChargePointType\",\"Status\",\"Latitude_Longitude\",\"Address\",\"Latitude\",\"Longitude\"\n",
    "])"
   ]
  },
  {
   "cell_type": "code",
   "execution_count": 22,
   "metadata": {},
   "outputs": [
    {
     "data": {
      "text/html": [
       "<div>\n",
       "<style>\n",
       "    .dataframe thead tr:only-child th {\n",
       "        text-align: right;\n",
       "    }\n",
       "\n",
       "    .dataframe thead th {\n",
       "        text-align: left;\n",
       "    }\n",
       "\n",
       "    .dataframe tbody tr th {\n",
       "        vertical-align: top;\n",
       "    }\n",
       "</style>\n",
       "<table border=\"1\" class=\"dataframe\">\n",
       "  <thead>\n",
       "    <tr style=\"text-align: right;\">\n",
       "      <th></th>\n",
       "      <th>Datetime</th>\n",
       "      <th>Time</th>\n",
       "      <th>ChargePointID</th>\n",
       "      <th>ChargePointType</th>\n",
       "      <th>Status</th>\n",
       "      <th>Latitude_Longitude</th>\n",
       "      <th>Address</th>\n",
       "      <th>Latitude</th>\n",
       "      <th>Longitude</th>\n",
       "    </tr>\n",
       "  </thead>\n",
       "  <tbody>\n",
       "    <tr>\n",
       "      <th>0</th>\n",
       "      <td>20161102</td>\n",
       "      <td>640</td>\n",
       "      <td>CP:C2YMD-A/B</td>\n",
       "      <td>StandardType2</td>\n",
       "      <td>Part</td>\n",
       "      <td>-7.204457,53.863850</td>\n",
       "      <td>The Grove, Ballyjamesduff, County Cavan</td>\n",
       "      <td>-7.204457</td>\n",
       "      <td>53.863850</td>\n",
       "    </tr>\n",
       "    <tr>\n",
       "      <th>1</th>\n",
       "      <td>20161102</td>\n",
       "      <td>640</td>\n",
       "      <td>CP:C4ZH3</td>\n",
       "      <td>StandardType2</td>\n",
       "      <td>OOS</td>\n",
       "      <td>-7.361237,53.994044</td>\n",
       "      <td>Off Farnham Street, Cavan Town, County Cavan</td>\n",
       "      <td>-7.361237</td>\n",
       "      <td>53.994044</td>\n",
       "    </tr>\n",
       "    <tr>\n",
       "      <th>2</th>\n",
       "      <td>20161102</td>\n",
       "      <td>640</td>\n",
       "      <td>CP:C4547-A/B</td>\n",
       "      <td>StandardType2</td>\n",
       "      <td>OOC</td>\n",
       "      <td>-7.082769,53.834939</td>\n",
       "      <td>Main Street, Virginia, County Cavan</td>\n",
       "      <td>-7.082769</td>\n",
       "      <td>53.834939</td>\n",
       "    </tr>\n",
       "    <tr>\n",
       "      <th>3</th>\n",
       "      <td>20161102</td>\n",
       "      <td>640</td>\n",
       "      <td>CP:C6GPC</td>\n",
       "      <td>StandardType2</td>\n",
       "      <td>Part</td>\n",
       "      <td>-8.686061,52.358365</td>\n",
       "      <td>The Turrets, Off Main Street, Charleville, Cou...</td>\n",
       "      <td>-8.686061</td>\n",
       "      <td>52.358365</td>\n",
       "    </tr>\n",
       "    <tr>\n",
       "      <th>4</th>\n",
       "      <td>20161102</td>\n",
       "      <td>640</td>\n",
       "      <td>CP:C6BTQ</td>\n",
       "      <td>StandardType2</td>\n",
       "      <td>Part</td>\n",
       "      <td>-8.520562,51.709117</td>\n",
       "      <td>Fire Brigade Car Park, New Road, Kinsale, Coun...</td>\n",
       "      <td>-8.520562</td>\n",
       "      <td>51.709117</td>\n",
       "    </tr>\n",
       "  </tbody>\n",
       "</table>\n",
       "</div>"
      ],
      "text/plain": [
       "   Datetime  Time ChargePointID ChargePointType Status   Latitude_Longitude  \\\n",
       "0  20161102   640  CP:C2YMD-A/B   StandardType2   Part  -7.204457,53.863850   \n",
       "1  20161102   640      CP:C4ZH3   StandardType2    OOS  -7.361237,53.994044   \n",
       "2  20161102   640  CP:C4547-A/B   StandardType2    OOC  -7.082769,53.834939   \n",
       "3  20161102   640      CP:C6GPC   StandardType2   Part  -8.686061,52.358365   \n",
       "4  20161102   640      CP:C6BTQ   StandardType2   Part  -8.520562,51.709117   \n",
       "\n",
       "                                             Address  Latitude  Longitude  \n",
       "0            The Grove, Ballyjamesduff, County Cavan -7.204457  53.863850  \n",
       "1       Off Farnham Street, Cavan Town, County Cavan -7.361237  53.994044  \n",
       "2                Main Street, Virginia, County Cavan -7.082769  53.834939  \n",
       "3  The Turrets, Off Main Street, Charleville, Cou... -8.686061  52.358365  \n",
       "4  Fire Brigade Car Park, New Road, Kinsale, Coun... -8.520562  51.709117  "
      ]
     },
     "execution_count": 22,
     "metadata": {},
     "output_type": "execute_result"
    }
   ],
   "source": [
    "nov16.head()"
   ]
  },
  {
   "cell_type": "code",
   "execution_count": 23,
   "metadata": {},
   "outputs": [
    {
     "data": {
      "text/plain": [
       "(1213520, 9)"
      ]
     },
     "execution_count": 23,
     "metadata": {},
     "output_type": "execute_result"
    }
   ],
   "source": [
    "nov16.shape"
   ]
  },
  {
   "cell_type": "code",
   "execution_count": 24,
   "metadata": {},
   "outputs": [
    {
     "data": {
      "text/plain": [
       "Index([u'Datetime', u'Time', u'ChargePointID', u'ChargePointType', u'Status',\n",
       "       u'Latitude_Longitude', u'Address', u'Latitude', u'Longitude'],\n",
       "      dtype='object')"
      ]
     },
     "execution_count": 24,
     "metadata": {},
     "output_type": "execute_result"
    }
   ],
   "source": [
    "nov16.columns"
   ]
  },
  {
   "cell_type": "code",
   "execution_count": 25,
   "metadata": {
    "collapsed": true
   },
   "outputs": [],
   "source": [
    "#now i need to add the other months\n",
    "dec16 = pd.read_csv('/Users/alexandrasmith/Documents/DataScience/Intro_to_Data_Science/irish_EV_stations_data/201612a.txt',sep='\\t',names = [\"Datetime\",\"Time\",\"ChargePointID\",\"ChargePointType\",\"Status\",\"Latitude_Longitude\",\"Address\",\"Latitude\",\"Longitude\"\n",
    "])"
   ]
  },
  {
   "cell_type": "code",
   "execution_count": 26,
   "metadata": {},
   "outputs": [
    {
     "data": {
      "text/html": [
       "<div>\n",
       "<style>\n",
       "    .dataframe thead tr:only-child th {\n",
       "        text-align: right;\n",
       "    }\n",
       "\n",
       "    .dataframe thead th {\n",
       "        text-align: left;\n",
       "    }\n",
       "\n",
       "    .dataframe tbody tr th {\n",
       "        vertical-align: top;\n",
       "    }\n",
       "</style>\n",
       "<table border=\"1\" class=\"dataframe\">\n",
       "  <thead>\n",
       "    <tr style=\"text-align: right;\">\n",
       "      <th></th>\n",
       "      <th>Datetime</th>\n",
       "      <th>Time</th>\n",
       "      <th>ChargePointID</th>\n",
       "      <th>ChargePointType</th>\n",
       "      <th>Status</th>\n",
       "      <th>Latitude_Longitude</th>\n",
       "      <th>Address</th>\n",
       "      <th>Latitude</th>\n",
       "      <th>Longitude</th>\n",
       "    </tr>\n",
       "  </thead>\n",
       "  <tbody>\n",
       "    <tr>\n",
       "      <th>0</th>\n",
       "      <td>20161201</td>\n",
       "      <td>0</td>\n",
       "      <td>CP:C67D2</td>\n",
       "      <td>StandardType2</td>\n",
       "      <td>OOC</td>\n",
       "      <td>-6.955983,52.702794</td>\n",
       "      <td>The Parade, Bagenalstown, County Carlow</td>\n",
       "      <td>-6.955983</td>\n",
       "      <td>52.702794</td>\n",
       "    </tr>\n",
       "    <tr>\n",
       "      <th>1</th>\n",
       "      <td>20161201</td>\n",
       "      <td>0</td>\n",
       "      <td>CP:C4GTM</td>\n",
       "      <td>StandardType2</td>\n",
       "      <td>OOC</td>\n",
       "      <td>-6.736986,52.801581</td>\n",
       "      <td>Inner Relief Road, Tullow, County Carlow</td>\n",
       "      <td>-6.736986</td>\n",
       "      <td>52.801581</td>\n",
       "    </tr>\n",
       "    <tr>\n",
       "      <th>2</th>\n",
       "      <td>20161201</td>\n",
       "      <td>0</td>\n",
       "      <td>CP:C4ZH3</td>\n",
       "      <td>StandardType2</td>\n",
       "      <td>OOS</td>\n",
       "      <td>-7.361237,53.994044</td>\n",
       "      <td>Off Farnham Street, Cavan Town, County Cavan</td>\n",
       "      <td>-7.361237</td>\n",
       "      <td>53.994044</td>\n",
       "    </tr>\n",
       "    <tr>\n",
       "      <th>3</th>\n",
       "      <td>20161201</td>\n",
       "      <td>0</td>\n",
       "      <td>CP:C4W54</td>\n",
       "      <td>StandardType2</td>\n",
       "      <td>OOC</td>\n",
       "      <td>-9.647069,52.683379</td>\n",
       "      <td>Public Car Park, East End, Kilkee, County Clare</td>\n",
       "      <td>-9.647069</td>\n",
       "      <td>52.683379</td>\n",
       "    </tr>\n",
       "    <tr>\n",
       "      <th>4</th>\n",
       "      <td>20161201</td>\n",
       "      <td>0</td>\n",
       "      <td>CP:C6WY4</td>\n",
       "      <td>StandardType2</td>\n",
       "      <td>OOC</td>\n",
       "      <td>-9.290289,53.027069</td>\n",
       "      <td>Hydro Hotel, Main Street, Lisdoonvarna, County...</td>\n",
       "      <td>-9.290289</td>\n",
       "      <td>53.027069</td>\n",
       "    </tr>\n",
       "  </tbody>\n",
       "</table>\n",
       "</div>"
      ],
      "text/plain": [
       "   Datetime  Time ChargePointID ChargePointType Status   Latitude_Longitude  \\\n",
       "0  20161201     0      CP:C67D2   StandardType2    OOC  -6.955983,52.702794   \n",
       "1  20161201     0      CP:C4GTM   StandardType2    OOC  -6.736986,52.801581   \n",
       "2  20161201     0      CP:C4ZH3   StandardType2    OOS  -7.361237,53.994044   \n",
       "3  20161201     0      CP:C4W54   StandardType2    OOC  -9.647069,52.683379   \n",
       "4  20161201     0      CP:C6WY4   StandardType2    OOC  -9.290289,53.027069   \n",
       "\n",
       "                                             Address  Latitude  Longitude  \n",
       "0            The Parade, Bagenalstown, County Carlow -6.955983  52.702794  \n",
       "1           Inner Relief Road, Tullow, County Carlow -6.736986  52.801581  \n",
       "2       Off Farnham Street, Cavan Town, County Cavan -7.361237  53.994044  \n",
       "3    Public Car Park, East End, Kilkee, County Clare -9.647069  52.683379  \n",
       "4  Hydro Hotel, Main Street, Lisdoonvarna, County... -9.290289  53.027069  "
      ]
     },
     "execution_count": 26,
     "metadata": {},
     "output_type": "execute_result"
    }
   ],
   "source": [
    "dec16.head()"
   ]
  },
  {
   "cell_type": "code",
   "execution_count": 27,
   "metadata": {},
   "outputs": [
    {
     "data": {
      "text/plain": [
       "(1085735, 9)"
      ]
     },
     "execution_count": 27,
     "metadata": {},
     "output_type": "execute_result"
    }
   ],
   "source": [
    "dec16.shape"
   ]
  },
  {
   "cell_type": "code",
   "execution_count": 28,
   "metadata": {},
   "outputs": [
    {
     "data": {
      "text/plain": [
       "Index([u'Datetime', u'Time', u'ChargePointID', u'ChargePointType', u'Status',\n",
       "       u'Latitude_Longitude', u'Address', u'Latitude', u'Longitude'],\n",
       "      dtype='object')"
      ]
     },
     "execution_count": 28,
     "metadata": {},
     "output_type": "execute_result"
    }
   ],
   "source": [
    "dec16.columns\n",
    "#i named the data column 'Datetime' because later on this will be helpful when adding the 'Time' column to 'Datetime'"
   ]
  },
  {
   "cell_type": "code",
   "execution_count": 29,
   "metadata": {},
   "outputs": [],
   "source": [
    "#two ways to add decemeber rows to november rows\n",
    "#1: append\n",
    "#nov16.append(dec16,ignore_index=True)\n",
    "#2: concat --> this one seems faster and is more recommended\n",
    "full_data = pd.concat([nov16,dec16])"
   ]
  },
  {
   "cell_type": "code",
   "execution_count": 30,
   "metadata": {},
   "outputs": [
    {
     "data": {
      "text/html": [
       "<div>\n",
       "<style>\n",
       "    .dataframe thead tr:only-child th {\n",
       "        text-align: right;\n",
       "    }\n",
       "\n",
       "    .dataframe thead th {\n",
       "        text-align: left;\n",
       "    }\n",
       "\n",
       "    .dataframe tbody tr th {\n",
       "        vertical-align: top;\n",
       "    }\n",
       "</style>\n",
       "<table border=\"1\" class=\"dataframe\">\n",
       "  <thead>\n",
       "    <tr style=\"text-align: right;\">\n",
       "      <th></th>\n",
       "      <th>Datetime</th>\n",
       "      <th>Time</th>\n",
       "      <th>ChargePointID</th>\n",
       "      <th>ChargePointType</th>\n",
       "      <th>Status</th>\n",
       "      <th>Latitude_Longitude</th>\n",
       "      <th>Address</th>\n",
       "      <th>Latitude</th>\n",
       "      <th>Longitude</th>\n",
       "    </tr>\n",
       "  </thead>\n",
       "  <tbody>\n",
       "    <tr>\n",
       "      <th>0</th>\n",
       "      <td>20161102</td>\n",
       "      <td>640</td>\n",
       "      <td>CP:C2YMD-A/B</td>\n",
       "      <td>StandardType2</td>\n",
       "      <td>Part</td>\n",
       "      <td>-7.204457,53.863850</td>\n",
       "      <td>The Grove, Ballyjamesduff, County Cavan</td>\n",
       "      <td>-7.204457</td>\n",
       "      <td>53.863850</td>\n",
       "    </tr>\n",
       "    <tr>\n",
       "      <th>1</th>\n",
       "      <td>20161102</td>\n",
       "      <td>640</td>\n",
       "      <td>CP:C4ZH3</td>\n",
       "      <td>StandardType2</td>\n",
       "      <td>OOS</td>\n",
       "      <td>-7.361237,53.994044</td>\n",
       "      <td>Off Farnham Street, Cavan Town, County Cavan</td>\n",
       "      <td>-7.361237</td>\n",
       "      <td>53.994044</td>\n",
       "    </tr>\n",
       "    <tr>\n",
       "      <th>2</th>\n",
       "      <td>20161102</td>\n",
       "      <td>640</td>\n",
       "      <td>CP:C4547-A/B</td>\n",
       "      <td>StandardType2</td>\n",
       "      <td>OOC</td>\n",
       "      <td>-7.082769,53.834939</td>\n",
       "      <td>Main Street, Virginia, County Cavan</td>\n",
       "      <td>-7.082769</td>\n",
       "      <td>53.834939</td>\n",
       "    </tr>\n",
       "    <tr>\n",
       "      <th>3</th>\n",
       "      <td>20161102</td>\n",
       "      <td>640</td>\n",
       "      <td>CP:C6GPC</td>\n",
       "      <td>StandardType2</td>\n",
       "      <td>Part</td>\n",
       "      <td>-8.686061,52.358365</td>\n",
       "      <td>The Turrets, Off Main Street, Charleville, Cou...</td>\n",
       "      <td>-8.686061</td>\n",
       "      <td>52.358365</td>\n",
       "    </tr>\n",
       "    <tr>\n",
       "      <th>4</th>\n",
       "      <td>20161102</td>\n",
       "      <td>640</td>\n",
       "      <td>CP:C6BTQ</td>\n",
       "      <td>StandardType2</td>\n",
       "      <td>Part</td>\n",
       "      <td>-8.520562,51.709117</td>\n",
       "      <td>Fire Brigade Car Park, New Road, Kinsale, Coun...</td>\n",
       "      <td>-8.520562</td>\n",
       "      <td>51.709117</td>\n",
       "    </tr>\n",
       "  </tbody>\n",
       "</table>\n",
       "</div>"
      ],
      "text/plain": [
       "   Datetime  Time ChargePointID ChargePointType Status   Latitude_Longitude  \\\n",
       "0  20161102   640  CP:C2YMD-A/B   StandardType2   Part  -7.204457,53.863850   \n",
       "1  20161102   640      CP:C4ZH3   StandardType2    OOS  -7.361237,53.994044   \n",
       "2  20161102   640  CP:C4547-A/B   StandardType2    OOC  -7.082769,53.834939   \n",
       "3  20161102   640      CP:C6GPC   StandardType2   Part  -8.686061,52.358365   \n",
       "4  20161102   640      CP:C6BTQ   StandardType2   Part  -8.520562,51.709117   \n",
       "\n",
       "                                             Address  Latitude  Longitude  \n",
       "0            The Grove, Ballyjamesduff, County Cavan -7.204457  53.863850  \n",
       "1       Off Farnham Street, Cavan Town, County Cavan -7.361237  53.994044  \n",
       "2                Main Street, Virginia, County Cavan -7.082769  53.834939  \n",
       "3  The Turrets, Off Main Street, Charleville, Cou... -8.686061  52.358365  \n",
       "4  Fire Brigade Car Park, New Road, Kinsale, Coun... -8.520562  51.709117  "
      ]
     },
     "execution_count": 30,
     "metadata": {},
     "output_type": "execute_result"
    }
   ],
   "source": [
    "full_data.head() #november data up top looks good"
   ]
  },
  {
   "cell_type": "code",
   "execution_count": 31,
   "metadata": {},
   "outputs": [
    {
     "data": {
      "text/html": [
       "<div>\n",
       "<style>\n",
       "    .dataframe thead tr:only-child th {\n",
       "        text-align: right;\n",
       "    }\n",
       "\n",
       "    .dataframe thead th {\n",
       "        text-align: left;\n",
       "    }\n",
       "\n",
       "    .dataframe tbody tr th {\n",
       "        vertical-align: top;\n",
       "    }\n",
       "</style>\n",
       "<table border=\"1\" class=\"dataframe\">\n",
       "  <thead>\n",
       "    <tr style=\"text-align: right;\">\n",
       "      <th></th>\n",
       "      <th>Datetime</th>\n",
       "      <th>Time</th>\n",
       "      <th>ChargePointID</th>\n",
       "      <th>ChargePointType</th>\n",
       "      <th>Status</th>\n",
       "      <th>Latitude_Longitude</th>\n",
       "      <th>Address</th>\n",
       "      <th>Latitude</th>\n",
       "      <th>Longitude</th>\n",
       "    </tr>\n",
       "  </thead>\n",
       "  <tbody>\n",
       "    <tr>\n",
       "      <th>1085730</th>\n",
       "      <td>20161227</td>\n",
       "      <td>1445</td>\n",
       "      <td>NaN</td>\n",
       "      <td>NaN</td>\n",
       "      <td>NaN</td>\n",
       "      <td>NaN</td>\n",
       "      <td>NaN</td>\n",
       "      <td>0.0</td>\n",
       "      <td>0.0</td>\n",
       "    </tr>\n",
       "    <tr>\n",
       "      <th>1085731</th>\n",
       "      <td>20161227</td>\n",
       "      <td>1735</td>\n",
       "      <td>NaN</td>\n",
       "      <td>NaN</td>\n",
       "      <td>NaN</td>\n",
       "      <td>NaN</td>\n",
       "      <td>NaN</td>\n",
       "      <td>0.0</td>\n",
       "      <td>0.0</td>\n",
       "    </tr>\n",
       "    <tr>\n",
       "      <th>1085732</th>\n",
       "      <td>20161228</td>\n",
       "      <td>1435</td>\n",
       "      <td>NaN</td>\n",
       "      <td>NaN</td>\n",
       "      <td>NaN</td>\n",
       "      <td>NaN</td>\n",
       "      <td>NaN</td>\n",
       "      <td>0.0</td>\n",
       "      <td>0.0</td>\n",
       "    </tr>\n",
       "    <tr>\n",
       "      <th>1085733</th>\n",
       "      <td>20161228</td>\n",
       "      <td>1440</td>\n",
       "      <td>NaN</td>\n",
       "      <td>NaN</td>\n",
       "      <td>NaN</td>\n",
       "      <td>NaN</td>\n",
       "      <td>NaN</td>\n",
       "      <td>0.0</td>\n",
       "      <td>0.0</td>\n",
       "    </tr>\n",
       "    <tr>\n",
       "      <th>1085734</th>\n",
       "      <td>20161228</td>\n",
       "      <td>1700</td>\n",
       "      <td>NaN</td>\n",
       "      <td>NaN</td>\n",
       "      <td>NaN</td>\n",
       "      <td>NaN</td>\n",
       "      <td>NaN</td>\n",
       "      <td>0.0</td>\n",
       "      <td>0.0</td>\n",
       "    </tr>\n",
       "  </tbody>\n",
       "</table>\n",
       "</div>"
      ],
      "text/plain": [
       "         Datetime  Time ChargePointID ChargePointType Status  \\\n",
       "1085730  20161227  1445           NaN             NaN    NaN   \n",
       "1085731  20161227  1735           NaN             NaN    NaN   \n",
       "1085732  20161228  1435           NaN             NaN    NaN   \n",
       "1085733  20161228  1440           NaN             NaN    NaN   \n",
       "1085734  20161228  1700           NaN             NaN    NaN   \n",
       "\n",
       "        Latitude_Longitude Address  Latitude  Longitude  \n",
       "1085730                NaN     NaN       0.0        0.0  \n",
       "1085731                NaN     NaN       0.0        0.0  \n",
       "1085732                NaN     NaN       0.0        0.0  \n",
       "1085733                NaN     NaN       0.0        0.0  \n",
       "1085734                NaN     NaN       0.0        0.0  "
      ]
     },
     "execution_count": 31,
     "metadata": {},
     "output_type": "execute_result"
    }
   ],
   "source": [
    "full_data.tail() #december data on the bottom looks good! except there are a bunch of NaNs, i'll take care of those later"
   ]
  },
  {
   "cell_type": "code",
   "execution_count": 32,
   "metadata": {},
   "outputs": [],
   "source": [
    "#now let's load up the rest of the months and add them all to the full_data df\n",
    "jan17 = pd.read_csv('/Users/alexandrasmith/Documents/DataScience/Intro_to_Data_Science/irish_EV_stations_data/201701a.txt',sep='\\t',names = [\"Datetime\",\"Time\",\"ChargePointID\",\"ChargePointType\",\"Status\",\"Latitude_Longitude\",\"Address\",\"Latitude\",\"Longitude\"\n",
    "])\n",
    "feb17 = pd.read_csv('/Users/alexandrasmith/Documents/DataScience/Intro_to_Data_Science/irish_EV_stations_data/201702a.txt',sep='\\t',names = [\"Datetime\",\"Time\",\"ChargePointID\",\"ChargePointType\",\"Status\",\"Latitude_Longitude\",\"Address\",\"Latitude\",\"Longitude\"\n",
    "])\n",
    "march17 = pd.read_csv('/Users/alexandrasmith/Documents/DataScience/Intro_to_Data_Science/irish_EV_stations_data/201703a.txt',sep='\\t',names = [\"Datetime\",\"Time\",\"ChargePointID\",\"ChargePointType\",\"Status\",\"Latitude_Longitude\",\"Address\",\"Latitude\",\"Longitude\"\n",
    "])\n",
    "april17 = pd.read_csv('/Users/alexandrasmith/Documents/DataScience/Intro_to_Data_Science/irish_EV_stations_data/201704a.txt',sep='\\t',names = [\"Datetime\",\"Time\",\"ChargePointID\",\"ChargePointType\",\"Status\",\"Latitude_Longitude\",\"Address\",\"Latitude\",\"Longitude\"\n",
    "])\n",
    "may17 = pd.read_csv('/Users/alexandrasmith/Documents/DataScience/Intro_to_Data_Science/irish_EV_stations_data/201705a.txt',sep='\\t',names = [\"Datetime\",\"Time\",\"ChargePointID\",\"ChargePointType\",\"Status\",\"Latitude_Longitude\",\"Address\",\"Latitude\",\"Longitude\"\n",
    "])\n",
    "june17 = pd.read_csv('/Users/alexandrasmith/Documents/DataScience/Intro_to_Data_Science/irish_EV_stations_data/201706a.txt',sep='\\t',names = [\"Datetime\",\"Time\",\"ChargePointID\",\"ChargePointType\",\"Status\",\"Latitude_Longitude\",\"Address\",\"Latitude\",\"Longitude\"\n",
    "])\n",
    "july17 = pd.read_csv('/Users/alexandrasmith/Documents/DataScience/Intro_to_Data_Science/irish_EV_stations_data/201707a.txt',sep='\\t',names = [\"Datetime\",\"Time\",\"ChargePointID\",\"ChargePointType\",\"Status\",\"Latitude_Longitude\",\"Address\",\"Latitude\",\"Longitude\"\n",
    "])\n",
    "aug17 = pd.read_csv('/Users/alexandrasmith/Documents/DataScience/Intro_to_Data_Science/irish_EV_stations_data/201708a.txt',sep='\\t',names = [\"Datetime\",\"Time\",\"ChargePointID\",\"ChargePointType\",\"Status\",\"Latitude_Longitude\",\"Address\",\"Latitude\",\"Longitude\"\n",
    "])\n",
    "sept17 = pd.read_csv('/Users/alexandrasmith/Documents/DataScience/Intro_to_Data_Science/irish_EV_stations_data/201709a.txt',sep='\\t',names = [\"Datetime\",\"Time\",\"ChargePointID\",\"ChargePointType\",\"Status\",\"Latitude_Longitude\",\"Address\",\"Latitude\",\"Longitude\"\n",
    "])\n",
    "oct17 = pd.read_csv('/Users/alexandrasmith/Documents/DataScience/Intro_to_Data_Science/irish_EV_stations_data/201710a.txt',sep='\\t',names = [\"Datetime\",\"Time\",\"ChargePointID\",\"ChargePointType\",\"Status\",\"Latitude_Longitude\",\"Address\",\"Latitude\",\"Longitude\"\n",
    "])\n",
    "nov17 = pd.read_csv('/Users/alexandrasmith/Documents/DataScience/Intro_to_Data_Science/irish_EV_stations_data/201711a.txt',sep='\\t',names = [\"Datetime\",\"Time\",\"ChargePointID\",\"ChargePointType\",\"Status\",\"Latitude_Longitude\",\"Address\",\"Latitude\",\"Longitude\"\n",
    "])\n",
    "dec17 = pd.read_csv('/Users/alexandrasmith/Documents/DataScience/Intro_to_Data_Science/irish_EV_stations_data/201712a.txt',sep='\\t',names = [\"Datetime\",\"Time\",\"ChargePointID\",\"ChargePointType\",\"Status\",\"Latitude_Longitude\",\"Address\",\"Latitude\",\"Longitude\"\n",
    "])"
   ]
  },
  {
   "cell_type": "code",
   "execution_count": 33,
   "metadata": {},
   "outputs": [],
   "source": [
    "#putting all the months (14) of data together\n",
    "full_data = pd.concat([full_data,jan17,feb17,march17,april17,may17,june17,july17,aug17,sept17,oct17,dec17])"
   ]
  },
  {
   "cell_type": "code",
   "execution_count": 34,
   "metadata": {},
   "outputs": [
    {
     "data": {
      "text/html": [
       "<div>\n",
       "<style>\n",
       "    .dataframe thead tr:only-child th {\n",
       "        text-align: right;\n",
       "    }\n",
       "\n",
       "    .dataframe thead th {\n",
       "        text-align: left;\n",
       "    }\n",
       "\n",
       "    .dataframe tbody tr th {\n",
       "        vertical-align: top;\n",
       "    }\n",
       "</style>\n",
       "<table border=\"1\" class=\"dataframe\">\n",
       "  <thead>\n",
       "    <tr style=\"text-align: right;\">\n",
       "      <th></th>\n",
       "      <th>Datetime</th>\n",
       "      <th>Time</th>\n",
       "      <th>ChargePointID</th>\n",
       "      <th>ChargePointType</th>\n",
       "      <th>Status</th>\n",
       "      <th>Latitude_Longitude</th>\n",
       "      <th>Address</th>\n",
       "      <th>Latitude</th>\n",
       "      <th>Longitude</th>\n",
       "    </tr>\n",
       "  </thead>\n",
       "  <tbody>\n",
       "    <tr>\n",
       "      <th>0</th>\n",
       "      <td>20161102</td>\n",
       "      <td>640</td>\n",
       "      <td>CP:C2YMD-A/B</td>\n",
       "      <td>StandardType2</td>\n",
       "      <td>Part</td>\n",
       "      <td>-7.204457,53.863850</td>\n",
       "      <td>The Grove, Ballyjamesduff, County Cavan</td>\n",
       "      <td>-7.204457</td>\n",
       "      <td>53.863850</td>\n",
       "    </tr>\n",
       "    <tr>\n",
       "      <th>1</th>\n",
       "      <td>20161102</td>\n",
       "      <td>640</td>\n",
       "      <td>CP:C4ZH3</td>\n",
       "      <td>StandardType2</td>\n",
       "      <td>OOS</td>\n",
       "      <td>-7.361237,53.994044</td>\n",
       "      <td>Off Farnham Street, Cavan Town, County Cavan</td>\n",
       "      <td>-7.361237</td>\n",
       "      <td>53.994044</td>\n",
       "    </tr>\n",
       "    <tr>\n",
       "      <th>2</th>\n",
       "      <td>20161102</td>\n",
       "      <td>640</td>\n",
       "      <td>CP:C4547-A/B</td>\n",
       "      <td>StandardType2</td>\n",
       "      <td>OOC</td>\n",
       "      <td>-7.082769,53.834939</td>\n",
       "      <td>Main Street, Virginia, County Cavan</td>\n",
       "      <td>-7.082769</td>\n",
       "      <td>53.834939</td>\n",
       "    </tr>\n",
       "    <tr>\n",
       "      <th>3</th>\n",
       "      <td>20161102</td>\n",
       "      <td>640</td>\n",
       "      <td>CP:C6GPC</td>\n",
       "      <td>StandardType2</td>\n",
       "      <td>Part</td>\n",
       "      <td>-8.686061,52.358365</td>\n",
       "      <td>The Turrets, Off Main Street, Charleville, Cou...</td>\n",
       "      <td>-8.686061</td>\n",
       "      <td>52.358365</td>\n",
       "    </tr>\n",
       "    <tr>\n",
       "      <th>4</th>\n",
       "      <td>20161102</td>\n",
       "      <td>640</td>\n",
       "      <td>CP:C6BTQ</td>\n",
       "      <td>StandardType2</td>\n",
       "      <td>Part</td>\n",
       "      <td>-8.520562,51.709117</td>\n",
       "      <td>Fire Brigade Car Park, New Road, Kinsale, Coun...</td>\n",
       "      <td>-8.520562</td>\n",
       "      <td>51.709117</td>\n",
       "    </tr>\n",
       "  </tbody>\n",
       "</table>\n",
       "</div>"
      ],
      "text/plain": [
       "   Datetime Time ChargePointID ChargePointType Status   Latitude_Longitude  \\\n",
       "0  20161102  640  CP:C2YMD-A/B   StandardType2   Part  -7.204457,53.863850   \n",
       "1  20161102  640      CP:C4ZH3   StandardType2    OOS  -7.361237,53.994044   \n",
       "2  20161102  640  CP:C4547-A/B   StandardType2    OOC  -7.082769,53.834939   \n",
       "3  20161102  640      CP:C6GPC   StandardType2   Part  -8.686061,52.358365   \n",
       "4  20161102  640      CP:C6BTQ   StandardType2   Part  -8.520562,51.709117   \n",
       "\n",
       "                                             Address  Latitude  Longitude  \n",
       "0            The Grove, Ballyjamesduff, County Cavan -7.204457  53.863850  \n",
       "1       Off Farnham Street, Cavan Town, County Cavan -7.361237  53.994044  \n",
       "2                Main Street, Virginia, County Cavan -7.082769  53.834939  \n",
       "3  The Turrets, Off Main Street, Charleville, Cou... -8.686061  52.358365  \n",
       "4  Fire Brigade Car Park, New Road, Kinsale, Coun... -8.520562  51.709117  "
      ]
     },
     "execution_count": 34,
     "metadata": {},
     "output_type": "execute_result"
    }
   ],
   "source": [
    "#awesome, now let's take a look\n",
    "full_data.head()"
   ]
  },
  {
   "cell_type": "code",
   "execution_count": 35,
   "metadata": {},
   "outputs": [
    {
     "data": {
      "text/plain": [
       "(17314536, 9)"
      ]
     },
     "execution_count": 35,
     "metadata": {},
     "output_type": "execute_result"
    }
   ],
   "source": [
    "full_data.shape #danggggg, that's a lot of entries...over 30 million"
   ]
  },
  {
   "cell_type": "code",
   "execution_count": 36,
   "metadata": {},
   "outputs": [
    {
     "data": {
      "text/plain": [
       "Datetime               object\n",
       "Time                   object\n",
       "ChargePointID          object\n",
       "ChargePointType        object\n",
       "Status                 object\n",
       "Latitude_Longitude     object\n",
       "Address                object\n",
       "Latitude              float64\n",
       "Longitude             float64\n",
       "dtype: object"
      ]
     },
     "execution_count": 36,
     "metadata": {},
     "output_type": "execute_result"
    }
   ],
   "source": [
    "full_data.dtypes #okay so i'm going to want to change the datetime to type datetime in a bit"
   ]
  },
  {
   "cell_type": "code",
   "execution_count": 37,
   "metadata": {},
   "outputs": [],
   "source": [
    "#let's get rid of a duplicate column\n",
    "del full_data['Latitude_Longitude'] #delete duplicate column of latitude and longitude"
   ]
  },
  {
   "cell_type": "code",
   "execution_count": 38,
   "metadata": {},
   "outputs": [
    {
     "data": {
      "text/html": [
       "<div>\n",
       "<style>\n",
       "    .dataframe thead tr:only-child th {\n",
       "        text-align: right;\n",
       "    }\n",
       "\n",
       "    .dataframe thead th {\n",
       "        text-align: left;\n",
       "    }\n",
       "\n",
       "    .dataframe tbody tr th {\n",
       "        vertical-align: top;\n",
       "    }\n",
       "</style>\n",
       "<table border=\"1\" class=\"dataframe\">\n",
       "  <thead>\n",
       "    <tr style=\"text-align: right;\">\n",
       "      <th></th>\n",
       "      <th>Datetime</th>\n",
       "      <th>Time</th>\n",
       "      <th>ChargePointID</th>\n",
       "      <th>ChargePointType</th>\n",
       "      <th>Status</th>\n",
       "      <th>Address</th>\n",
       "      <th>Latitude</th>\n",
       "      <th>Longitude</th>\n",
       "    </tr>\n",
       "  </thead>\n",
       "  <tbody>\n",
       "    <tr>\n",
       "      <th>0</th>\n",
       "      <td>20161102</td>\n",
       "      <td>640</td>\n",
       "      <td>CP:C2YMD-A/B</td>\n",
       "      <td>StandardType2</td>\n",
       "      <td>Part</td>\n",
       "      <td>The Grove, Ballyjamesduff, County Cavan</td>\n",
       "      <td>-7.204457</td>\n",
       "      <td>53.863850</td>\n",
       "    </tr>\n",
       "    <tr>\n",
       "      <th>1</th>\n",
       "      <td>20161102</td>\n",
       "      <td>640</td>\n",
       "      <td>CP:C4ZH3</td>\n",
       "      <td>StandardType2</td>\n",
       "      <td>OOS</td>\n",
       "      <td>Off Farnham Street, Cavan Town, County Cavan</td>\n",
       "      <td>-7.361237</td>\n",
       "      <td>53.994044</td>\n",
       "    </tr>\n",
       "    <tr>\n",
       "      <th>2</th>\n",
       "      <td>20161102</td>\n",
       "      <td>640</td>\n",
       "      <td>CP:C4547-A/B</td>\n",
       "      <td>StandardType2</td>\n",
       "      <td>OOC</td>\n",
       "      <td>Main Street, Virginia, County Cavan</td>\n",
       "      <td>-7.082769</td>\n",
       "      <td>53.834939</td>\n",
       "    </tr>\n",
       "    <tr>\n",
       "      <th>3</th>\n",
       "      <td>20161102</td>\n",
       "      <td>640</td>\n",
       "      <td>CP:C6GPC</td>\n",
       "      <td>StandardType2</td>\n",
       "      <td>Part</td>\n",
       "      <td>The Turrets, Off Main Street, Charleville, Cou...</td>\n",
       "      <td>-8.686061</td>\n",
       "      <td>52.358365</td>\n",
       "    </tr>\n",
       "    <tr>\n",
       "      <th>4</th>\n",
       "      <td>20161102</td>\n",
       "      <td>640</td>\n",
       "      <td>CP:C6BTQ</td>\n",
       "      <td>StandardType2</td>\n",
       "      <td>Part</td>\n",
       "      <td>Fire Brigade Car Park, New Road, Kinsale, Coun...</td>\n",
       "      <td>-8.520562</td>\n",
       "      <td>51.709117</td>\n",
       "    </tr>\n",
       "    <tr>\n",
       "      <th>5</th>\n",
       "      <td>20161102</td>\n",
       "      <td>640</td>\n",
       "      <td>CP:C7GRZ</td>\n",
       "      <td>StandardType2</td>\n",
       "      <td>OOC</td>\n",
       "      <td>Navenny Street, Ballybofey, County Donegal</td>\n",
       "      <td>-7.783045</td>\n",
       "      <td>54.797965</td>\n",
       "    </tr>\n",
       "    <tr>\n",
       "      <th>6</th>\n",
       "      <td>20161102</td>\n",
       "      <td>640</td>\n",
       "      <td>CP:C7DGY</td>\n",
       "      <td>StandardType2</td>\n",
       "      <td>OOC</td>\n",
       "      <td>Market Yard Car Park, Main Street, Ballyshanno...</td>\n",
       "      <td>-8.188621</td>\n",
       "      <td>54.501145</td>\n",
       "    </tr>\n",
       "    <tr>\n",
       "      <th>7</th>\n",
       "      <td>20161102</td>\n",
       "      <td>640</td>\n",
       "      <td>CP:C9HRF</td>\n",
       "      <td>StandardType2</td>\n",
       "      <td>OOS</td>\n",
       "      <td>The Aura Lesiure Centre, Ballymacool Street, L...</td>\n",
       "      <td>-7.751151</td>\n",
       "      <td>54.946769</td>\n",
       "    </tr>\n",
       "    <tr>\n",
       "      <th>8</th>\n",
       "      <td>20161102</td>\n",
       "      <td>640</td>\n",
       "      <td>CP:C75HT</td>\n",
       "      <td>StandardType2</td>\n",
       "      <td>OOS</td>\n",
       "      <td>Hospital Car Park, Kilmacrennan Road, Letterke...</td>\n",
       "      <td>-7.731468</td>\n",
       "      <td>54.961006</td>\n",
       "    </tr>\n",
       "    <tr>\n",
       "      <th>9</th>\n",
       "      <td>20161102</td>\n",
       "      <td>640</td>\n",
       "      <td>CP:C7FDW</td>\n",
       "      <td>StandardType2</td>\n",
       "      <td>OOC</td>\n",
       "      <td>Justice Walsh Car Park, Off Bank Lane, Letterk...</td>\n",
       "      <td>-7.734554</td>\n",
       "      <td>54.951508</td>\n",
       "    </tr>\n",
       "  </tbody>\n",
       "</table>\n",
       "</div>"
      ],
      "text/plain": [
       "   Datetime Time ChargePointID ChargePointType Status  \\\n",
       "0  20161102  640  CP:C2YMD-A/B   StandardType2   Part   \n",
       "1  20161102  640      CP:C4ZH3   StandardType2    OOS   \n",
       "2  20161102  640  CP:C4547-A/B   StandardType2    OOC   \n",
       "3  20161102  640      CP:C6GPC   StandardType2   Part   \n",
       "4  20161102  640      CP:C6BTQ   StandardType2   Part   \n",
       "5  20161102  640      CP:C7GRZ   StandardType2    OOC   \n",
       "6  20161102  640      CP:C7DGY   StandardType2    OOC   \n",
       "7  20161102  640      CP:C9HRF   StandardType2    OOS   \n",
       "8  20161102  640      CP:C75HT   StandardType2    OOS   \n",
       "9  20161102  640      CP:C7FDW   StandardType2    OOC   \n",
       "\n",
       "                                             Address  Latitude  Longitude  \n",
       "0            The Grove, Ballyjamesduff, County Cavan -7.204457  53.863850  \n",
       "1       Off Farnham Street, Cavan Town, County Cavan -7.361237  53.994044  \n",
       "2                Main Street, Virginia, County Cavan -7.082769  53.834939  \n",
       "3  The Turrets, Off Main Street, Charleville, Cou... -8.686061  52.358365  \n",
       "4  Fire Brigade Car Park, New Road, Kinsale, Coun... -8.520562  51.709117  \n",
       "5         Navenny Street, Ballybofey, County Donegal -7.783045  54.797965  \n",
       "6  Market Yard Car Park, Main Street, Ballyshanno... -8.188621  54.501145  \n",
       "7  The Aura Lesiure Centre, Ballymacool Street, L... -7.751151  54.946769  \n",
       "8  Hospital Car Park, Kilmacrennan Road, Letterke... -7.731468  54.961006  \n",
       "9  Justice Walsh Car Park, Off Bank Lane, Letterk... -7.734554  54.951508  "
      ]
     },
     "execution_count": 38,
     "metadata": {},
     "output_type": "execute_result"
    }
   ],
   "source": [
    "full_data.head(10)"
   ]
  },
  {
   "cell_type": "code",
   "execution_count": 39,
   "metadata": {},
   "outputs": [
    {
     "data": {
      "text/plain": [
       "Datetime            object\n",
       "Time                object\n",
       "ChargePointID       object\n",
       "ChargePointType     object\n",
       "Status              object\n",
       "Address             object\n",
       "Latitude           float64\n",
       "Longitude          float64\n",
       "dtype: object"
      ]
     },
     "execution_count": 39,
     "metadata": {},
     "output_type": "execute_result"
    }
   ],
   "source": [
    "full_data.dtypes #check types of columns"
   ]
  },
  {
   "cell_type": "code",
   "execution_count": 41,
   "metadata": {
    "collapsed": true
   },
   "outputs": [],
   "source": [
    "#convert Datetime to str to combine date (Datetime) and time (Time)\n",
    "full_data.Datetime = full_data.Datetime.astype(str)\n",
    "\n",
    "#convert Time to str to combine date (Datetime) and time (Time)\n",
    "full_data.Time = full_data.Time.astype(str)"
   ]
  },
  {
   "cell_type": "code",
   "execution_count": 44,
   "metadata": {},
   "outputs": [
    {
     "data": {
      "text/plain": [
       "Datetime            object\n",
       "Time                object\n",
       "ChargePointID       object\n",
       "ChargePointType     object\n",
       "Status              object\n",
       "Address             object\n",
       "Latitude           float64\n",
       "Longitude          float64\n",
       "dtype: object"
      ]
     },
     "execution_count": 44,
     "metadata": {},
     "output_type": "execute_result"
    }
   ],
   "source": [
    "full_data.dtypes\n",
    "#even though the type of Datetime and Time is still 'object', it seemed to help with respect to eliminating the following error when adding Time to Datetime below:\n",
    "#TypeError: sequence item 0: expected string, int found"
   ]
  },
  {
   "cell_type": "code",
   "execution_count": 42,
   "metadata": {
    "scrolled": true
   },
   "outputs": [],
   "source": [
    "#add Time to Datetime column\n",
    "full_data['Datetime'] = full_data['Datetime'].str.cat(full_data['Time'].values.astype(str), sep='')"
   ]
  },
  {
   "cell_type": "code",
   "execution_count": 45,
   "metadata": {},
   "outputs": [
    {
     "data": {
      "text/html": [
       "<div>\n",
       "<style>\n",
       "    .dataframe thead tr:only-child th {\n",
       "        text-align: right;\n",
       "    }\n",
       "\n",
       "    .dataframe thead th {\n",
       "        text-align: left;\n",
       "    }\n",
       "\n",
       "    .dataframe tbody tr th {\n",
       "        vertical-align: top;\n",
       "    }\n",
       "</style>\n",
       "<table border=\"1\" class=\"dataframe\">\n",
       "  <thead>\n",
       "    <tr style=\"text-align: right;\">\n",
       "      <th></th>\n",
       "      <th>Datetime</th>\n",
       "      <th>Time</th>\n",
       "      <th>ChargePointID</th>\n",
       "      <th>ChargePointType</th>\n",
       "      <th>Status</th>\n",
       "      <th>Address</th>\n",
       "      <th>Latitude</th>\n",
       "      <th>Longitude</th>\n",
       "    </tr>\n",
       "  </thead>\n",
       "  <tbody>\n",
       "    <tr>\n",
       "      <th>0</th>\n",
       "      <td>20161102640</td>\n",
       "      <td>640</td>\n",
       "      <td>CP:C2YMD-A/B</td>\n",
       "      <td>StandardType2</td>\n",
       "      <td>Part</td>\n",
       "      <td>The Grove, Ballyjamesduff, County Cavan</td>\n",
       "      <td>-7.204457</td>\n",
       "      <td>53.863850</td>\n",
       "    </tr>\n",
       "    <tr>\n",
       "      <th>1</th>\n",
       "      <td>20161102640</td>\n",
       "      <td>640</td>\n",
       "      <td>CP:C4ZH3</td>\n",
       "      <td>StandardType2</td>\n",
       "      <td>OOS</td>\n",
       "      <td>Off Farnham Street, Cavan Town, County Cavan</td>\n",
       "      <td>-7.361237</td>\n",
       "      <td>53.994044</td>\n",
       "    </tr>\n",
       "    <tr>\n",
       "      <th>2</th>\n",
       "      <td>20161102640</td>\n",
       "      <td>640</td>\n",
       "      <td>CP:C4547-A/B</td>\n",
       "      <td>StandardType2</td>\n",
       "      <td>OOC</td>\n",
       "      <td>Main Street, Virginia, County Cavan</td>\n",
       "      <td>-7.082769</td>\n",
       "      <td>53.834939</td>\n",
       "    </tr>\n",
       "    <tr>\n",
       "      <th>3</th>\n",
       "      <td>20161102640</td>\n",
       "      <td>640</td>\n",
       "      <td>CP:C6GPC</td>\n",
       "      <td>StandardType2</td>\n",
       "      <td>Part</td>\n",
       "      <td>The Turrets, Off Main Street, Charleville, Cou...</td>\n",
       "      <td>-8.686061</td>\n",
       "      <td>52.358365</td>\n",
       "    </tr>\n",
       "    <tr>\n",
       "      <th>4</th>\n",
       "      <td>20161102640</td>\n",
       "      <td>640</td>\n",
       "      <td>CP:C6BTQ</td>\n",
       "      <td>StandardType2</td>\n",
       "      <td>Part</td>\n",
       "      <td>Fire Brigade Car Park, New Road, Kinsale, Coun...</td>\n",
       "      <td>-8.520562</td>\n",
       "      <td>51.709117</td>\n",
       "    </tr>\n",
       "  </tbody>\n",
       "</table>\n",
       "</div>"
      ],
      "text/plain": [
       "      Datetime Time ChargePointID ChargePointType Status  \\\n",
       "0  20161102640  640  CP:C2YMD-A/B   StandardType2   Part   \n",
       "1  20161102640  640      CP:C4ZH3   StandardType2    OOS   \n",
       "2  20161102640  640  CP:C4547-A/B   StandardType2    OOC   \n",
       "3  20161102640  640      CP:C6GPC   StandardType2   Part   \n",
       "4  20161102640  640      CP:C6BTQ   StandardType2   Part   \n",
       "\n",
       "                                             Address  Latitude  Longitude  \n",
       "0            The Grove, Ballyjamesduff, County Cavan -7.204457  53.863850  \n",
       "1       Off Farnham Street, Cavan Town, County Cavan -7.361237  53.994044  \n",
       "2                Main Street, Virginia, County Cavan -7.082769  53.834939  \n",
       "3  The Turrets, Off Main Street, Charleville, Cou... -8.686061  52.358365  \n",
       "4  Fire Brigade Car Park, New Road, Kinsale, Coun... -8.520562  51.709117  "
      ]
     },
     "execution_count": 45,
     "metadata": {},
     "output_type": "execute_result"
    }
   ],
   "source": [
    "full_data.head()"
   ]
  },
  {
   "cell_type": "code",
   "execution_count": 46,
   "metadata": {
    "collapsed": true
   },
   "outputs": [],
   "source": [
    "#now i don't need the Time column anymone (since it was added to the Datetime column)\n",
    "del full_data['Time']"
   ]
  },
  {
   "cell_type": "code",
   "execution_count": 47,
   "metadata": {},
   "outputs": [
    {
     "data": {
      "text/html": [
       "<div>\n",
       "<style>\n",
       "    .dataframe thead tr:only-child th {\n",
       "        text-align: right;\n",
       "    }\n",
       "\n",
       "    .dataframe thead th {\n",
       "        text-align: left;\n",
       "    }\n",
       "\n",
       "    .dataframe tbody tr th {\n",
       "        vertical-align: top;\n",
       "    }\n",
       "</style>\n",
       "<table border=\"1\" class=\"dataframe\">\n",
       "  <thead>\n",
       "    <tr style=\"text-align: right;\">\n",
       "      <th></th>\n",
       "      <th>Datetime</th>\n",
       "      <th>ChargePointID</th>\n",
       "      <th>ChargePointType</th>\n",
       "      <th>Status</th>\n",
       "      <th>Address</th>\n",
       "      <th>Latitude</th>\n",
       "      <th>Longitude</th>\n",
       "    </tr>\n",
       "  </thead>\n",
       "  <tbody>\n",
       "    <tr>\n",
       "      <th>0</th>\n",
       "      <td>20161102640</td>\n",
       "      <td>CP:C2YMD-A/B</td>\n",
       "      <td>StandardType2</td>\n",
       "      <td>Part</td>\n",
       "      <td>The Grove, Ballyjamesduff, County Cavan</td>\n",
       "      <td>-7.204457</td>\n",
       "      <td>53.863850</td>\n",
       "    </tr>\n",
       "    <tr>\n",
       "      <th>1</th>\n",
       "      <td>20161102640</td>\n",
       "      <td>CP:C4ZH3</td>\n",
       "      <td>StandardType2</td>\n",
       "      <td>OOS</td>\n",
       "      <td>Off Farnham Street, Cavan Town, County Cavan</td>\n",
       "      <td>-7.361237</td>\n",
       "      <td>53.994044</td>\n",
       "    </tr>\n",
       "    <tr>\n",
       "      <th>2</th>\n",
       "      <td>20161102640</td>\n",
       "      <td>CP:C4547-A/B</td>\n",
       "      <td>StandardType2</td>\n",
       "      <td>OOC</td>\n",
       "      <td>Main Street, Virginia, County Cavan</td>\n",
       "      <td>-7.082769</td>\n",
       "      <td>53.834939</td>\n",
       "    </tr>\n",
       "    <tr>\n",
       "      <th>3</th>\n",
       "      <td>20161102640</td>\n",
       "      <td>CP:C6GPC</td>\n",
       "      <td>StandardType2</td>\n",
       "      <td>Part</td>\n",
       "      <td>The Turrets, Off Main Street, Charleville, Cou...</td>\n",
       "      <td>-8.686061</td>\n",
       "      <td>52.358365</td>\n",
       "    </tr>\n",
       "    <tr>\n",
       "      <th>4</th>\n",
       "      <td>20161102640</td>\n",
       "      <td>CP:C6BTQ</td>\n",
       "      <td>StandardType2</td>\n",
       "      <td>Part</td>\n",
       "      <td>Fire Brigade Car Park, New Road, Kinsale, Coun...</td>\n",
       "      <td>-8.520562</td>\n",
       "      <td>51.709117</td>\n",
       "    </tr>\n",
       "  </tbody>\n",
       "</table>\n",
       "</div>"
      ],
      "text/plain": [
       "      Datetime ChargePointID ChargePointType Status  \\\n",
       "0  20161102640  CP:C2YMD-A/B   StandardType2   Part   \n",
       "1  20161102640      CP:C4ZH3   StandardType2    OOS   \n",
       "2  20161102640  CP:C4547-A/B   StandardType2    OOC   \n",
       "3  20161102640      CP:C6GPC   StandardType2   Part   \n",
       "4  20161102640      CP:C6BTQ   StandardType2   Part   \n",
       "\n",
       "                                             Address  Latitude  Longitude  \n",
       "0            The Grove, Ballyjamesduff, County Cavan -7.204457  53.863850  \n",
       "1       Off Farnham Street, Cavan Town, County Cavan -7.361237  53.994044  \n",
       "2                Main Street, Virginia, County Cavan -7.082769  53.834939  \n",
       "3  The Turrets, Off Main Street, Charleville, Cou... -8.686061  52.358365  \n",
       "4  Fire Brigade Car Park, New Road, Kinsale, Coun... -8.520562  51.709117  "
      ]
     },
     "execution_count": 47,
     "metadata": {},
     "output_type": "execute_result"
    }
   ],
   "source": [
    "full_data.head()"
   ]
  },
  {
   "cell_type": "code",
   "execution_count": 50,
   "metadata": {},
   "outputs": [
    {
     "data": {
      "text/plain": [
       "Datetime            object\n",
       "ChargePointID       object\n",
       "ChargePointType     object\n",
       "Status              object\n",
       "Address             object\n",
       "Latitude           float64\n",
       "Longitude          float64\n",
       "dtype: object"
      ]
     },
     "execution_count": 50,
     "metadata": {},
     "output_type": "execute_result"
    }
   ],
   "source": [
    "full_data.dtypes\n",
    "#now Datetime is ready to be converted to type datetime"
   ]
  },
  {
   "cell_type": "code",
   "execution_count": null,
   "metadata": {
    "collapsed": true
   },
   "outputs": [],
   "source": [
    "#from datetime import datetime\n",
    "\n",
    "#DateFormat = '%y%m%d%H%M'\n",
    "#datetime.strptime(nov16.Datetime,DateFormat)"
   ]
  },
  {
   "cell_type": "code",
   "execution_count": 51,
   "metadata": {},
   "outputs": [
    {
     "ename": "OverflowError",
     "evalue": "signed integer is greater than maximum",
     "output_type": "error",
     "traceback": [
      "\u001b[0;31m---------------------------------------------------------------------------\u001b[0m",
      "\u001b[0;31mOverflowError\u001b[0m                             Traceback (most recent call last)",
      "\u001b[0;32m<ipython-input-51-99929f603528>\u001b[0m in \u001b[0;36m<module>\u001b[0;34m()\u001b[0m\n\u001b[0;32m----> 1\u001b[0;31m \u001b[0mfull_data\u001b[0m\u001b[0;34m[\u001b[0m\u001b[0;34m'FormattedDatetime'\u001b[0m\u001b[0;34m]\u001b[0m \u001b[0;34m=\u001b[0m \u001b[0mpd\u001b[0m\u001b[0;34m.\u001b[0m\u001b[0mto_datetime\u001b[0m\u001b[0;34m(\u001b[0m\u001b[0mfull_data\u001b[0m\u001b[0;34m.\u001b[0m\u001b[0mDatetime\u001b[0m\u001b[0;34m,\u001b[0m\u001b[0myearfirst\u001b[0m\u001b[0;34m=\u001b[0m\u001b[0mTrue\u001b[0m\u001b[0;34m)\u001b[0m\u001b[0;34m\u001b[0m\u001b[0m\n\u001b[0m\u001b[1;32m      2\u001b[0m \u001b[0;31m#nov16['Datetime'] = nov16['Datetime'].apply(lambda x:datetime.datetime.strptime(x,\"%Y%m%d%H%M\"))\u001b[0m\u001b[0;34m\u001b[0m\u001b[0;34m\u001b[0m\u001b[0m\n",
      "\u001b[0;32m/Applications/anaconda2/lib/python2.7/site-packages/pandas/core/tools/datetimes.pyc\u001b[0m in \u001b[0;36mto_datetime\u001b[0;34m(arg, errors, dayfirst, yearfirst, utc, box, format, exact, unit, infer_datetime_format, origin)\u001b[0m\n\u001b[1;32m    507\u001b[0m     \u001b[0;32melif\u001b[0m \u001b[0misinstance\u001b[0m\u001b[0;34m(\u001b[0m\u001b[0marg\u001b[0m\u001b[0;34m,\u001b[0m \u001b[0mABCSeries\u001b[0m\u001b[0;34m)\u001b[0m\u001b[0;34m:\u001b[0m\u001b[0;34m\u001b[0m\u001b[0m\n\u001b[1;32m    508\u001b[0m         \u001b[0;32mfrom\u001b[0m \u001b[0mpandas\u001b[0m \u001b[0;32mimport\u001b[0m \u001b[0mSeries\u001b[0m\u001b[0;34m\u001b[0m\u001b[0m\n\u001b[0;32m--> 509\u001b[0;31m         \u001b[0mvalues\u001b[0m \u001b[0;34m=\u001b[0m \u001b[0m_convert_listlike\u001b[0m\u001b[0;34m(\u001b[0m\u001b[0marg\u001b[0m\u001b[0;34m.\u001b[0m\u001b[0m_values\u001b[0m\u001b[0;34m,\u001b[0m \u001b[0mFalse\u001b[0m\u001b[0;34m,\u001b[0m \u001b[0mformat\u001b[0m\u001b[0;34m)\u001b[0m\u001b[0;34m\u001b[0m\u001b[0m\n\u001b[0m\u001b[1;32m    510\u001b[0m         \u001b[0mresult\u001b[0m \u001b[0;34m=\u001b[0m \u001b[0mSeries\u001b[0m\u001b[0;34m(\u001b[0m\u001b[0mvalues\u001b[0m\u001b[0;34m,\u001b[0m \u001b[0mindex\u001b[0m\u001b[0;34m=\u001b[0m\u001b[0marg\u001b[0m\u001b[0;34m.\u001b[0m\u001b[0mindex\u001b[0m\u001b[0;34m,\u001b[0m \u001b[0mname\u001b[0m\u001b[0;34m=\u001b[0m\u001b[0marg\u001b[0m\u001b[0;34m.\u001b[0m\u001b[0mname\u001b[0m\u001b[0;34m)\u001b[0m\u001b[0;34m\u001b[0m\u001b[0m\n\u001b[1;32m    511\u001b[0m     \u001b[0;32melif\u001b[0m \u001b[0misinstance\u001b[0m\u001b[0;34m(\u001b[0m\u001b[0marg\u001b[0m\u001b[0;34m,\u001b[0m \u001b[0;34m(\u001b[0m\u001b[0mABCDataFrame\u001b[0m\u001b[0;34m,\u001b[0m \u001b[0mMutableMapping\u001b[0m\u001b[0;34m)\u001b[0m\u001b[0;34m)\u001b[0m\u001b[0;34m:\u001b[0m\u001b[0;34m\u001b[0m\u001b[0m\n",
      "\u001b[0;32m/Applications/anaconda2/lib/python2.7/site-packages/pandas/core/tools/datetimes.pyc\u001b[0m in \u001b[0;36m_convert_listlike\u001b[0;34m(arg, box, format, name, tz)\u001b[0m\n\u001b[1;32m    433\u001b[0m                     \u001b[0mdayfirst\u001b[0m\u001b[0;34m=\u001b[0m\u001b[0mdayfirst\u001b[0m\u001b[0;34m,\u001b[0m\u001b[0;34m\u001b[0m\u001b[0m\n\u001b[1;32m    434\u001b[0m                     \u001b[0myearfirst\u001b[0m\u001b[0;34m=\u001b[0m\u001b[0myearfirst\u001b[0m\u001b[0;34m,\u001b[0m\u001b[0;34m\u001b[0m\u001b[0m\n\u001b[0;32m--> 435\u001b[0;31m                     \u001b[0mrequire_iso8601\u001b[0m\u001b[0;34m=\u001b[0m\u001b[0mrequire_iso8601\u001b[0m\u001b[0;34m\u001b[0m\u001b[0m\n\u001b[0m\u001b[1;32m    436\u001b[0m                 )\n\u001b[1;32m    437\u001b[0m \u001b[0;34m\u001b[0m\u001b[0m\n",
      "\u001b[0;32mpandas/_libs/tslib.pyx\u001b[0m in \u001b[0;36mpandas._libs.tslib.array_to_datetime (pandas/_libs/tslib.c:46617)\u001b[0;34m()\u001b[0m\n",
      "\u001b[0;32mpandas/_libs/tslib.pyx\u001b[0m in \u001b[0;36mpandas._libs.tslib.array_to_datetime (pandas/_libs/tslib.c:46233)\u001b[0;34m()\u001b[0m\n",
      "\u001b[0;32mpandas/_libs/tslib.pyx\u001b[0m in \u001b[0;36mpandas._libs.tslib.array_to_datetime (pandas/_libs/tslib.c:46122)\u001b[0;34m()\u001b[0m\n",
      "\u001b[0;32mpandas/_libs/tslib.pyx\u001b[0m in \u001b[0;36mpandas._libs.tslib.parse_datetime_string (pandas/_libs/tslib.c:35351)\u001b[0;34m()\u001b[0m\n",
      "\u001b[0;32m/Applications/anaconda2/lib/python2.7/site-packages/dateutil/parser.pyc\u001b[0m in \u001b[0;36mparse\u001b[0;34m(timestr, parserinfo, **kwargs)\u001b[0m\n\u001b[1;32m   1180\u001b[0m         \u001b[0;32mreturn\u001b[0m \u001b[0mparser\u001b[0m\u001b[0;34m(\u001b[0m\u001b[0mparserinfo\u001b[0m\u001b[0;34m)\u001b[0m\u001b[0;34m.\u001b[0m\u001b[0mparse\u001b[0m\u001b[0;34m(\u001b[0m\u001b[0mtimestr\u001b[0m\u001b[0;34m,\u001b[0m \u001b[0;34m**\u001b[0m\u001b[0mkwargs\u001b[0m\u001b[0;34m)\u001b[0m\u001b[0;34m\u001b[0m\u001b[0m\n\u001b[1;32m   1181\u001b[0m     \u001b[0;32melse\u001b[0m\u001b[0;34m:\u001b[0m\u001b[0;34m\u001b[0m\u001b[0m\n\u001b[0;32m-> 1182\u001b[0;31m         \u001b[0;32mreturn\u001b[0m \u001b[0mDEFAULTPARSER\u001b[0m\u001b[0;34m.\u001b[0m\u001b[0mparse\u001b[0m\u001b[0;34m(\u001b[0m\u001b[0mtimestr\u001b[0m\u001b[0;34m,\u001b[0m \u001b[0;34m**\u001b[0m\u001b[0mkwargs\u001b[0m\u001b[0;34m)\u001b[0m\u001b[0;34m\u001b[0m\u001b[0m\n\u001b[0m\u001b[1;32m   1183\u001b[0m \u001b[0;34m\u001b[0m\u001b[0m\n\u001b[1;32m   1184\u001b[0m \u001b[0;34m\u001b[0m\u001b[0m\n",
      "\u001b[0;32m/Applications/anaconda2/lib/python2.7/site-packages/dateutil/parser.pyc\u001b[0m in \u001b[0;36mparse\u001b[0;34m(self, timestr, default, ignoretz, tzinfos, **kwargs)\u001b[0m\n\u001b[1;32m    576\u001b[0m             \u001b[0mcday\u001b[0m \u001b[0;34m=\u001b[0m \u001b[0mdefault\u001b[0m\u001b[0;34m.\u001b[0m\u001b[0mday\u001b[0m \u001b[0;32mif\u001b[0m \u001b[0mres\u001b[0m\u001b[0;34m.\u001b[0m\u001b[0mday\u001b[0m \u001b[0;32mis\u001b[0m \u001b[0mNone\u001b[0m \u001b[0;32melse\u001b[0m \u001b[0mres\u001b[0m\u001b[0;34m.\u001b[0m\u001b[0mday\u001b[0m\u001b[0;34m\u001b[0m\u001b[0m\n\u001b[1;32m    577\u001b[0m \u001b[0;34m\u001b[0m\u001b[0m\n\u001b[0;32m--> 578\u001b[0;31m             \u001b[0;32mif\u001b[0m \u001b[0mcday\u001b[0m \u001b[0;34m>\u001b[0m \u001b[0mmonthrange\u001b[0m\u001b[0;34m(\u001b[0m\u001b[0mcyear\u001b[0m\u001b[0;34m,\u001b[0m \u001b[0mcmonth\u001b[0m\u001b[0;34m)\u001b[0m\u001b[0;34m[\u001b[0m\u001b[0;36m1\u001b[0m\u001b[0;34m]\u001b[0m\u001b[0;34m:\u001b[0m\u001b[0;34m\u001b[0m\u001b[0m\n\u001b[0m\u001b[1;32m    579\u001b[0m                 \u001b[0mrepl\u001b[0m\u001b[0;34m[\u001b[0m\u001b[0;34m'day'\u001b[0m\u001b[0;34m]\u001b[0m \u001b[0;34m=\u001b[0m \u001b[0mmonthrange\u001b[0m\u001b[0;34m(\u001b[0m\u001b[0mcyear\u001b[0m\u001b[0;34m,\u001b[0m \u001b[0mcmonth\u001b[0m\u001b[0;34m)\u001b[0m\u001b[0;34m[\u001b[0m\u001b[0;36m1\u001b[0m\u001b[0;34m]\u001b[0m\u001b[0;34m\u001b[0m\u001b[0m\n\u001b[1;32m    580\u001b[0m \u001b[0;34m\u001b[0m\u001b[0m\n",
      "\u001b[0;32m/Applications/anaconda2/lib/python2.7/calendar.pyc\u001b[0m in \u001b[0;36mmonthrange\u001b[0;34m(year, month)\u001b[0m\n\u001b[1;32m    119\u001b[0m     \u001b[0;32mif\u001b[0m \u001b[0;32mnot\u001b[0m \u001b[0;36m1\u001b[0m \u001b[0;34m<=\u001b[0m \u001b[0mmonth\u001b[0m \u001b[0;34m<=\u001b[0m \u001b[0;36m12\u001b[0m\u001b[0;34m:\u001b[0m\u001b[0;34m\u001b[0m\u001b[0m\n\u001b[1;32m    120\u001b[0m         \u001b[0;32mraise\u001b[0m \u001b[0mIllegalMonthError\u001b[0m\u001b[0;34m(\u001b[0m\u001b[0mmonth\u001b[0m\u001b[0;34m)\u001b[0m\u001b[0;34m\u001b[0m\u001b[0m\n\u001b[0;32m--> 121\u001b[0;31m     \u001b[0mday1\u001b[0m \u001b[0;34m=\u001b[0m \u001b[0mweekday\u001b[0m\u001b[0;34m(\u001b[0m\u001b[0myear\u001b[0m\u001b[0;34m,\u001b[0m \u001b[0mmonth\u001b[0m\u001b[0;34m,\u001b[0m \u001b[0;36m1\u001b[0m\u001b[0;34m)\u001b[0m\u001b[0;34m\u001b[0m\u001b[0m\n\u001b[0m\u001b[1;32m    122\u001b[0m     \u001b[0mndays\u001b[0m \u001b[0;34m=\u001b[0m \u001b[0mmdays\u001b[0m\u001b[0;34m[\u001b[0m\u001b[0mmonth\u001b[0m\u001b[0;34m]\u001b[0m \u001b[0;34m+\u001b[0m \u001b[0;34m(\u001b[0m\u001b[0mmonth\u001b[0m \u001b[0;34m==\u001b[0m \u001b[0mFebruary\u001b[0m \u001b[0;32mand\u001b[0m \u001b[0misleap\u001b[0m\u001b[0;34m(\u001b[0m\u001b[0myear\u001b[0m\u001b[0;34m)\u001b[0m\u001b[0;34m)\u001b[0m\u001b[0;34m\u001b[0m\u001b[0m\n\u001b[1;32m    123\u001b[0m     \u001b[0;32mreturn\u001b[0m \u001b[0mday1\u001b[0m\u001b[0;34m,\u001b[0m \u001b[0mndays\u001b[0m\u001b[0;34m\u001b[0m\u001b[0m\n",
      "\u001b[0;32m/Applications/anaconda2/lib/python2.7/calendar.pyc\u001b[0m in \u001b[0;36mweekday\u001b[0;34m(year, month, day)\u001b[0m\n\u001b[1;32m    111\u001b[0m     \"\"\"Return weekday (0-6 ~ Mon-Sun) for year (1970-...), month (1-12),\n\u001b[1;32m    112\u001b[0m        day (1-31).\"\"\"\n\u001b[0;32m--> 113\u001b[0;31m     \u001b[0;32mreturn\u001b[0m \u001b[0mdatetime\u001b[0m\u001b[0;34m.\u001b[0m\u001b[0mdate\u001b[0m\u001b[0;34m(\u001b[0m\u001b[0myear\u001b[0m\u001b[0;34m,\u001b[0m \u001b[0mmonth\u001b[0m\u001b[0;34m,\u001b[0m \u001b[0mday\u001b[0m\u001b[0;34m)\u001b[0m\u001b[0;34m.\u001b[0m\u001b[0mweekday\u001b[0m\u001b[0;34m(\u001b[0m\u001b[0;34m)\u001b[0m\u001b[0;34m\u001b[0m\u001b[0m\n\u001b[0m\u001b[1;32m    114\u001b[0m \u001b[0;34m\u001b[0m\u001b[0m\n\u001b[1;32m    115\u001b[0m \u001b[0;34m\u001b[0m\u001b[0m\n",
      "\u001b[0;31mOverflowError\u001b[0m: signed integer is greater than maximum"
     ]
    }
   ],
   "source": [
    "full_data['FormattedDatetime'] = pd.to_datetime(full_data.Datetime,yearfirst=True)\n",
    "#full_data['Datetime'] = full_data['Datetime'].apply(lambda x:datetime.datetime.strptime(x,\"%Y%m%d%H%M\"))"
   ]
  },
  {
   "cell_type": "code",
   "execution_count": 53,
   "metadata": {},
   "outputs": [
    {
     "name": "stdout",
     "output_type": "stream",
     "text": [
      "/Users/alexandrasmith\n"
     ]
    }
   ],
   "source": []
  },
  {
   "cell_type": "code",
   "execution_count": null,
   "metadata": {
    "collapsed": true
   },
   "outputs": [],
   "source": []
  }
 ],
 "metadata": {
  "kernelspec": {
   "display_name": "Python 2",
   "language": "python",
   "name": "python2"
  },
  "language_info": {
   "codemirror_mode": {
    "name": "ipython",
    "version": 2
   },
   "file_extension": ".py",
   "mimetype": "text/x-python",
   "name": "python",
   "nbconvert_exporter": "python",
   "pygments_lexer": "ipython2",
   "version": "2.7.14"
  }
 },
 "nbformat": 4,
 "nbformat_minor": 2
}
